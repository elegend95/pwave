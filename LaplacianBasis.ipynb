{
 "cells": [
  {
   "cell_type": "code",
   "execution_count": 10,
   "metadata": {},
   "outputs": [],
   "source": [
    "from __future__ import division\n",
    "from scipy import special as sp\n",
    "import numpy as np\n",
    "import matplotlib.pyplot as plt\n",
    "import Functions as fx\n",
    "from scipy import linalg as alg\n",
    "from numba import jit"
   ]
  },
  {
   "cell_type": "markdown",
   "metadata": {},
   "source": [
    "Parameters of the chosen basis: we choose eigenfunctions of the laplacian on a disk of radius `R` with hard wall boundary conditions"
   ]
  },
  {
   "cell_type": "code",
   "execution_count": 8,
   "metadata": {},
   "outputs": [],
   "source": [
    "R=2 #radius of disk\n",
    "N=5 #maximum number of bessel zeros (index n in hamiltonian)\n",
    "M=5 #maximum order of bessel function (index m in hamiltonian)"
   ]
  },
  {
   "cell_type": "markdown",
   "metadata": {},
   "source": [
    "Parameters of the Hamitonian"
   ]
  },
  {
   "cell_type": "code",
   "execution_count": 20,
   "metadata": {},
   "outputs": [],
   "source": [
    "T=1 #hopping\n",
    "MU=2 #chemical potential\n",
    "D=0. #superconducting coupling"
   ]
  },
  {
   "cell_type": "markdown",
   "metadata": {},
   "source": [
    "Construction of the basis. The basis functions have the form \n",
    "\\begin{equation}\n",
    "B_{nm}(r,\\theta)=R_{nm}(r)\\Phi_m(\\theta)\n",
    "\\end{equation}\n",
    "\n",
    "We first construct $R_{nm}$ as `radial` and later multiply by a phase $\\Phi_m$ to obtain $B_{nm}$ as `basisfunc`.\n",
    "\n",
    "For visualization purpose we also compute the values of $B_{nm}$ on a square grid of radius `rmax` (that will be set to `2R`) and number of lattice points per edge `Ltilde` via the function `basislattice`"
   ]
  },
  {
   "cell_type": "code",
   "execution_count": 16,
   "metadata": {},
   "outputs": [],
   "source": [
    "def radial(r,rmax,m,n): #normalized basis of radial eigenfunctions of laplacian\n",
    "    m=np.abs(m)\n",
    "    N=(rmax**2/2)*(sp.jv(m+1,sp.jn_zeros(m,n)[n-1]))**2 #normalization\n",
    "    return (1./np.sqrt(N))*sp.jv(np.abs(m),r*sp.jn_zeros(m,n)[n-1]/rmax)\n",
    "    \n",
    "def basisfunc(r,phi,rmax,m,n):  #basis of laplacian eigenfunctions constructed by multiplying radial part by phase\n",
    "    return radial(r,rmax,m,n)*np.exp(1j*m*phi)*(1./np.sqrt(2*np.pi)) #n.b. both positive and negative m required\n",
    "\n",
    "def basislattice(Ltilde,rmax,m,n): #recasting of the basis function on a square lattice\n",
    "    points=np.zeros(Ltilde**2,dtype=np.complex128)\n",
    "    for i in range(Ltilde**2):\n",
    "        y,x=(fx.indtocord(i,Ltilde)-(Ltilde-1)/2)/(0.5*Ltilde/rmax) #normalization of coordinates in the max radius\n",
    "        points[i]=basisfunc(np.sqrt(y**2+x**2),np.arctan2(y,x),rmax,m,n)\n",
    "        if (np.sqrt(y**2+x**2)>rmax):\n",
    "            points[i]=0\n",
    "    return points"
   ]
  },
  {
   "cell_type": "markdown",
   "metadata": {},
   "source": [
    "#### Hamiltonian construction"
   ]
  },
  {
   "cell_type": "markdown",
   "metadata": {},
   "source": [
    "The Kinetic energy matrix is diagonal in this basis. In particularly we have $(2M-1)N$ basis functions as for each basis functions with quantum number $m$ we have another with same energy with $-m$ except for $m=0$. We proceed in the following way:\n",
    "1. FIll a $(2M-1)N$ dimensional array `zerbes` with the eigenvalue associated to each functions and their quantum number such that for the $k$th eigenfunctions we have `zerbes[k,:]=[energy,m,n]`\n",
    "2. Reorder the array in order to **group all the terms with the same $n$**. This is done under the supposition that the coupling Hamiltonian will be block diagonal in $n$ sector.\n",
    "3. Compute the energies `eigvals` with parameters `T` and `MU`\n",
    "4. Construct a diagonal matrix `kinet` with the energies ordered as in point 2."
   ]
  },
  {
   "cell_type": "code",
   "execution_count": 21,
   "metadata": {},
   "outputs": [],
   "source": [
    "zerbes=np.zeros((N*(2*M-1),3)) #array for the zeros of bessel functions with corresponding quantum numbers\n",
    "zerbes[0:N,0]=sp.jn_zeros(0,N) #data in each row is (energy,m,n)\n",
    "for i in range(N):\n",
    "    zerbes[i,1]=0\n",
    "    zerbes[i,2]=i\n",
    "for i in range(1,M):\n",
    "    zerbes[N*(2*i-1):N*(2*i),0]=sp.jn_zeros(i,N)\n",
    "    for j in range(N):\n",
    "        zerbes[N*(2*i-1)+j,1]=i\n",
    "        zerbes[N*(2*i-1)+j,2]=j\n",
    "    zerbes[N*(2*i):N*(2*i+1),0]=sp.jn_zeros(i,N)\n",
    "    for j in range(N):\n",
    "        zerbes[N*(2*i)+j,1]=-i\n",
    "        zerbes[N*(2*i)+j,2]=j\n",
    "        \n",
    "zerbes=zerbes[np.lexsort((zerbes[:,1], zerbes[:,2]))] #sorting of indices in order to put all the elemts with equal n together\n",
    "eigvals=((T*(zerbes[:,0]/R)**2)-MU) #computation of eigenvalues for each pair (m,n)\n",
    "kinet=np.diag(eigvals) #diagonal kinetic energy matrix  "
   ]
  },
  {
   "cell_type": "markdown",
   "metadata": {},
   "source": [
    "#### Diagonalization\n",
    "(quite trivial for the moment, the Hamiltonian is diagonal)"
   ]
  },
  {
   "cell_type": "code",
   "execution_count": 22,
   "metadata": {},
   "outputs": [],
   "source": [
    "vals,vecs=alg.eigh(kinet)    #output: eigenvalues, eigenvectors matrix"
   ]
  },
  {
   "cell_type": "markdown",
   "metadata": {},
   "source": [
    "#### Visualization\n",
    "\n",
    "The diagonalization routine gives as output the eigenvectors in the basis of eigenfunctions of laplacian. To visualize the profile of the wavefunctions and confront it to the one obtained from `SquareLattice` we have to change basis to obtain the lattice representation:\n",
    "\\begin{equation}\n",
    "\\psi_{l}(x,y)=\\sum_{k}v_{lk}B_{k}(x,y)\n",
    "\\end{equation}\n",
    "\n",
    "where $l$ is the eigenvector label and $k$ is the laplacian eigenfunction index containing both $m$ and $m$. $v_{lk}$ is the transpose of `vecs` and each $B_k$ can be constructed using the function `basislattice`. The eigenvectors in position space can then be obtained by matrix multiplication.\n",
    "\n",
    "**N.B.** The computation of $(2M-1)N$ eigenfunctions with `basislattice` is quite costly, **is there a way to speed the process up?**"
   ]
  },
  {
   "cell_type": "code",
   "execution_count": 18,
   "metadata": {},
   "outputs": [],
   "source": [
    "Ltilde=35 #number of lattice points to plot\n",
    "posiz=np.zeros((Ltilde*Ltilde,(2*M-1)*N),dtype=np.complex128) #eigenfunctions in position space\n",
    "\n",
    "basislatticematrix=np.zeros((Ltilde*Ltilde,(2*M-1)*N),dtype=np.complex128)\n",
    "for k in range((2*M-1)*N): #DO NOT RUN THESE LINES IF NOT NEEDED\n",
    "    basislatticematrix[:,k]=basislattice(Ltilde,R,int(zerbes[k,1]),int(zerbes[k,2]+1))\n",
    "\n",
    "posiz=np.matmul(vecs.T,basislatticematrix.T)\n",
    "posiz=posiz.T"
   ]
  },
  {
   "cell_type": "markdown",
   "metadata": {},
   "source": [
    "Plotting of the sum of the square of each eigenfunctions (that means the particle density)"
   ]
  },
  {
   "cell_type": "code",
   "execution_count": 23,
   "metadata": {},
   "outputs": [
    {
     "name": "stderr",
     "output_type": "stream",
     "text": [
      "C:\\ProgramData\\Anaconda3\\lib\\site-packages\\ipykernel_launcher.py:7: ComplexWarning: Casting complex values to real discards the imaginary part\n",
      "  import sys\n"
     ]
    },
    {
     "data": {
      "text/plain": [
       "<matplotlib.colorbar.Colorbar at 0x23a28447748>"
      ]
     },
     "execution_count": 23,
     "metadata": {},
     "output_type": "execute_result"
    },
    {
     "data": {
      "image/png": "[encoded data removed]",
      "text/plain": [
       "<Figure size 720x720 with 2 Axes>"
      ]
     },
     "metadata": {
      "needs_background": "light"
     },
     "output_type": "display_data"
    }
   ],
   "source": [
    "punti=np.linspace(0,(Ltilde**2)-1,(Ltilde**2),dtype=np.int64) #initialization of a square grid to be recast as radial\n",
    "y=(np.floor(punti/Ltilde)-(Ltilde-1)/2)/(Ltilde/(2*R))\n",
    "x=(punti%Ltilde-(Ltilde-1)/2)/(Ltilde/(2*R))\n",
    "\n",
    "dens=np.zeros(Ltilde**2) #density of superfluid \n",
    "for i in range(Ltilde**2):\n",
    "    dens[i]=sum((posiz[i,:].conj()*posiz[i,:]))\n",
    "\n",
    "fig=plt.figure(4,figsize=(10,10))\n",
    "fig.add_subplot(111,aspect='equal')\n",
    "\n",
    "plt.scatter(x,y,c=dens,marker='s',s=180) #scatter plot of density\n",
    "\n",
    "plt.ylim(-R,R)\n",
    "plt.xlim(-R,R)\n",
    "plt.colorbar()"
   ]
  },
  {
   "cell_type": "code",
   "execution_count": null,
   "metadata": {},
   "outputs": [],
   "source": []
  }
 ],
 "metadata": {
  "kernelspec": {
   "display_name": "Python 3",
   "language": "python",
   "name": "python3"
  },
  "language_info": {
   "codemirror_mode": {
    "name": "ipython",
    "version": 3
   },
   "file_extension": ".py",
   "mimetype": "text/x-python",
   "name": "python",
   "nbconvert_exporter": "python",
   "pygments_lexer": "ipython3",
   "version": "3.7.4"
  }
 },
 "nbformat": 4,
 "nbformat_minor": 4
}
